{
  "cells": [
    {
      "cell_type": "markdown",
      "metadata": {
        "id": "view-in-github",
        "colab_type": "text"
      },
      "source": [
        "<a href=\"https://colab.research.google.com/github/OstrovskiyMaxim/.NETCourse/blob/master/lite/stable_diffusion_webui_colab.ipynb\" target=\"_parent\"><img src=\"https://colab.research.google.com/assets/colab-badge.svg\" alt=\"Open In Colab\"/></a>"
      ]
    },
    {
      "cell_type": "code",
      "execution_count": null,
      "metadata": {
        "id": "SaAJk33ppFw1"
      },
      "outputs": [],
      "source": [
        "# Change working directory\n",
        "%cd /content\n",
        "\n",
        "# Suppress TF log messages\n",
        "%env TF_CPP_MIN_LOG_LEVEL=1\n",
        "\n",
        "# Update system packages\n",
        "!apt -y update -qq\n",
        "\n",
        "# Install Python 3.10 and dev tools\n",
        "!apt -y install python3.10 python3.10-dev python3.10-distutils pkg-config libcairo2-dev aria2 -qq\n",
        "\n",
        "# Switch python3 to 3.10\n",
        "!update-alternatives --install /usr/bin/python3 python3 /usr/bin/python3.12 2\n",
        "!update-alternatives --install /usr/bin/python3 python3 /usr/bin/python3.10 1\n",
        "!update-alternatives --config python3 <<< \"1\"\n",
        "!python3 --version\n",
        "\n",
        "# Install pip for Python 3.10\n",
        "!curl https://bootstrap.pypa.io/get-pip.py -o get-pip.py\n",
        "!python3 get-pip.py\n",
        "\n",
        "# Install PyTorch + related packages\n",
        "!python3 -m pip install -q torch==2.0.1+cu118 torchvision==0.15.2+cu118 torchaudio==2.0.2+cu118 torchtext==0.15.2 torchdata==0.6.1 --extra-index-url https://download.pytorch.org/whl/cu118 -U\n",
        "\n",
        "# Install other Python packages\n",
        "!python3 -m pip install -q xformers==0.0.20 triton==2.0.0 gradio_client==0.2.7 -U\n",
        "\n",
        "# Download gperftools for memory optimization\n",
        "!wget https://github.com/camenduru/gperftools/releases/download/v1.0/libtcmalloc_minimal.so.4 -O /content/libtcmalloc_minimal.so.4\n",
        "%env LD_PRELOAD=/content/libtcmalloc_minimal.so.4\n",
        "\n",
        "# Clone WebUI and embeddings\n",
        "!git clone -b v2.4 https://github.com/camenduru/stable-diffusion-webui\n",
        "!git clone https://huggingface.co/embed/negative /content/stable-diffusion-webui/embeddings/negative\n",
        "!git clone https://huggingface.co/embed/lora /content/stable-diffusion-webui/models/Lora/positive\n",
        "\n",
        "# Download ESRGAN model\n",
        "!aria2c --console-log-level=error -c -x 16 -s 16 -k 1M https://huggingface.co/embed/upscale/resolve/main/4x-UltraSharp.pth -d /content/stable-diffusion-webui/models/ESRGAN -o 4x-UltraSharp.pth\n",
        "\n",
        "# Download helper scripts\n",
        "!wget https://raw.githubusercontent.com/camenduru/stable-diffusion-webui-scripts/main/run_n_times.py -O /content/stable-diffusion-webui/scripts/run_n_times.py\n",
        "\n",
        "# Clone extensions\n",
        "EXTENSIONS=(\n",
        "    \"deforum-for-automatic1111-webui\"\n",
        "    \"stable-diffusion-webui-images-browser\"\n",
        "    \"stable-diffusion-webui-huggingface\"\n",
        "    \"sd-civitai-browser\"\n",
        "    \"sd-webui-additional-networks\"\n",
        "    \"sd-webui-tunnels\"\n",
        "    \"batchlinks-webui\"\n",
        "    \"stable-diffusion-webui-catppuccin\"\n",
        "    \"stable-diffusion-webui-rembg\"\n",
        "    \"stable-diffusion-webui-two-shot\"\n",
        "    \"sd-webui-aspect-ratio-helper\"\n",
        "    \"asymmetric-tiling-sd-webui\"\n",
        ")\n",
        "\n",
        "for ext in \"${EXTENSIONS[@]}\"; do\n",
        "    !git clone -b v2.4 https://github.com/camenduru/$ext /content/stable-diffusion-webui/extensions/$ext\n",
        "done\n",
        "\n",
        "# Move into WebUI directory\n",
        "%cd /content/stable-diffusion-webui\n",
        "\n",
        "# Reset Git (safety)\n",
        "!git reset --hard\n",
        "\n",
        "# Download Stable Diffusion checkpoint\n",
        "!aria2c --console-log-level=error -c -x 16 -s 16 -k 1M https://huggingface.co/ckpt/sd14/resolve/main/sd-v1-4.ckpt -d /content/stable-diffusion-webui/models/Stable-diffusion -o sd-v1-4.ckpt\n",
        "\n",
        "# Apply some WebUI fixes\n",
        "!sed -i -e '''/from modules import launch_utils/a\\import os''' /content/stable-diffusion-webui/launch.py\n",
        "!sed -i -e '''/        prepare_environment()/a\\        os.system\\(f\\\"\"\"sed -i -e ''\\\"s/dict()))/dict())).cuda()/g\\\"'' /content/stable-diffusion-webui/repositories/stable-diffusion-stability-ai/ldm/util.py\"\"\")''' /content/stable-diffusion-webui/launch.py\n",
        "!sed -i -e 's/\\[\"sd_model_checkpoint\"\\]/\\[\"sd_model_checkpoint\",\"sd_vae\",\"CLIP_stop_at_last_layers\"\\]/g' /content/stable-diffusion-webui/modules/shared.py\n",
        "\n",
        "# Launch WebUI\n",
        "!python3 launch.py --listen --xformers --enable-insecure-extension-access --theme dark --gradio-queue --multiple --skip-python-version-check\n"
      ]
    }
  ],
  "metadata": {
    "accelerator": "GPU",
    "colab": {
      "private_outputs": true,
      "provenance": [],
      "gpuType": "T4",
      "include_colab_link": true
    },
    "kernelspec": {
      "display_name": "Python 3",
      "name": "python3"
    },
    "language_info": {
      "name": "python"
    }
  },
  "nbformat": 4,
  "nbformat_minor": 0
}